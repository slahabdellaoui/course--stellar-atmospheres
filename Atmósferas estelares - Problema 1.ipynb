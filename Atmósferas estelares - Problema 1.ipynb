{
 "cells": [
  {
   "cell_type": "markdown",
   "metadata": {
    "deletable": true,
    "editable": true
   },
   "source": [
    "<div style=\"text-align:right;\">Notebook by [@zodiacfireworks](https://github.com/zodiacfireworks)</div>"
   ]
  },
  {
   "cell_type": "markdown",
   "metadata": {
    "deletable": true,
    "editable": true
   },
   "source": [
    "# Atmósferas estelares"
   ]
  },
  {
   "cell_type": "markdown",
   "metadata": {},
   "source": [
    "Universidad Nacional Mayor de San Marcos<br>\n",
    "Facultad de Ciencias Físicas"
   ]
  },
  {
   "cell_type": "markdown",
   "metadata": {},
   "source": [
    "**Profesor**: Rafael Carlos<br>\n",
    "**Semestre**: 2017 - 1"
   ]
  },
  {
   "cell_type": "markdown",
   "metadata": {
    "deletable": true,
    "editable": true
   },
   "source": [
    "### Problema 1"
   ]
  },
  {
   "cell_type": "markdown",
   "metadata": {
    "deletable": true,
    "editable": true
   },
   "source": [
    "Dadas las curvas de sensibilidad de los filtros U, B y V del sistema fotométrico UBV; y las curvas de sensibilidad del ojo (día y noche). Determine la longitud de onda equivalente de cada una de las sensibilidades."
   ]
  },
  {
   "cell_type": "markdown",
   "metadata": {
    "deletable": true,
    "editable": true
   },
   "source": [
    "<table style=\"border: 0; text-align: center;\">\n",
    "    <theader>\n",
    "        <tr>\n",
    "            <td style=\"width: 80px;\">$\\lambda\\left(\\mu\\right)$</td>\n",
    "            <td style=\"width: 80px;\">$U_\\lambda$</td>\n",
    "            <td style=\"width: 80px;\">$B_\\lambda$</td>\n",
    "            <td style=\"width: 80px;\">$V_\\nu$</td>\n",
    "            <td style=\"width: 80px;\">$O_{dia}$</td>\n",
    "            <td style=\"width: 80px;\">$O_{noche}$</td>\n",
    "        </tr>\n",
    "    </theader>\n",
    "    <tbody>\n",
    "        <tr>\n",
    "            <td>0.28</td>\n",
    "            <td>0.00</td>\n",
    "            <td>0.00</td>\n",
    "            <td>0.00</td>\n",
    "            <td>0.00</td>\n",
    "            <td>0.00</td>\n",
    "        </tr>\n",
    "        <tr>\n",
    "            <td>0.30</td>\n",
    "            <td>0.13</td>\n",
    "            <td>0.00</td>\n",
    "            <td>0.00</td>\n",
    "            <td>0.00</td>\n",
    "            <td>0.00</td>\n",
    "        </tr>\n",
    "        <tr>\n",
    "            <td>0.32</td>\n",
    "            <td>0.60</td>\n",
    "            <td>0.00</td>\n",
    "            <td>0.00</td>\n",
    "            <td>0.00</td>\n",
    "            <td>0.00</td>\n",
    "        </tr>\n",
    "        <tr>\n",
    "            <td>0.34</td>\n",
    "            <td>0.92</td>\n",
    "            <td>0.00</td>\n",
    "            <td>0.00</td>\n",
    "            <td>0.00</td>\n",
    "            <td>0.00</td>\n",
    "        </tr>\n",
    "        <tr>\n",
    "            <td>0.36</td>\n",
    "            <td>1.00</td>\n",
    "            <td>0.00</td>\n",
    "            <td>0.00</td>\n",
    "            <td>0.00</td>\n",
    "            <td>0.00</td>\n",
    "        </tr>\n",
    "        <tr>\n",
    "            <td>0.38</td>\n",
    "            <td>0.72</td>\n",
    "            <td>0.13</td>\n",
    "            <td>0.00</td>\n",
    "            <td>0.00</td>\n",
    "            <td>0.00</td>\n",
    "        </tr>\n",
    "        <tr>\n",
    "            <td>0.40</td>\n",
    "            <td>0.09</td>\n",
    "            <td>0.92</td>\n",
    "            <td>0.00</td>\n",
    "            <td>0.00</td>\n",
    "            <td>0.02</td>\n",
    "        </tr>\n",
    "        <tr>\n",
    "            <td>0.42</td>\n",
    "            <td>0.00</td>\n",
    "            <td>1.00</td>\n",
    "            <td>0.00</td>\n",
    "            <td>0.00</td>\n",
    "            <td>0.08</td>\n",
    "        </tr>\n",
    "        <tr>\n",
    "            <td>0.44</td>\n",
    "            <td>0.00</td>\n",
    "            <td>0.92</td>\n",
    "            <td>0.00</td>\n",
    "            <td>0.02</td>\n",
    "            <td>0.21</td>\n",
    "        </tr>\n",
    "        <tr>\n",
    "            <td>0.46</td>\n",
    "            <td>0.00</td>\n",
    "            <td>0.76</td>\n",
    "            <td>0.00</td>\n",
    "            <td>0.06</td>\n",
    "            <td>0.41</td>\n",
    "        </tr>\n",
    "        <tr>\n",
    "            <td>0.48</td>\n",
    "            <td>0.00</td>\n",
    "            <td>0.56</td>\n",
    "            <td>0.01</td>\n",
    "            <td>0.14</td>\n",
    "            <td>0.65</td>\n",
    "        </tr>\n",
    "        <tr>\n",
    "            <td>0.50</td>\n",
    "            <td>0.00</td>\n",
    "            <td>0.39</td>\n",
    "            <td>0.36</td>\n",
    "            <td>0.32</td>\n",
    "            <td>0.90</td>\n",
    "        </tr>\n",
    "        <tr>\n",
    "            <td>0.52</td>\n",
    "            <td>0.00</td>\n",
    "            <td>0.20</td>\n",
    "            <td>0.91</td>\n",
    "            <td>0.71</td>\n",
    "            <td>0.96</td>\n",
    "        </tr>\n",
    "        <tr>\n",
    "            <td>0.54</td>\n",
    "            <td>0.00</td>\n",
    "            <td>0.07</td>\n",
    "            <td>0.98</td>\n",
    "            <td>0.95</td>\n",
    "            <td>0.68</td>\n",
    "        </tr>\n",
    "        <tr>\n",
    "            <td>0.56</td>\n",
    "            <td>0.00</td>\n",
    "            <td>0.00</td>\n",
    "            <td>0.80</td>\n",
    "            <td>1.00</td>\n",
    "            <td>0.35</td>\n",
    "        </tr>\n",
    "        <tr>\n",
    "            <td>0.58</td>\n",
    "            <td>0.00</td>\n",
    "            <td>0.00</td>\n",
    "            <td>0.59</td>\n",
    "            <td>0.87</td>\n",
    "            <td>0.14</td>\n",
    "        </tr>\n",
    "        <tr>\n",
    "            <td>0.60</td>\n",
    "            <td>0.00</td>\n",
    "            <td>0.00</td>\n",
    "            <td>0.39</td>\n",
    "            <td>0.63</td>\n",
    "            <td>0.05</td>\n",
    "        </tr>\n",
    "        <tr>\n",
    "            <td>0.62</td>\n",
    "            <td>0.00</td>\n",
    "            <td>0.00</td>\n",
    "            <td>0.22</td>\n",
    "            <td>0.38</td>\n",
    "            <td>0.02</td>\n",
    "        </tr>\n",
    "        <tr>\n",
    "            <td>0.64</td>\n",
    "            <td>0.00</td>\n",
    "            <td>0.00</td>\n",
    "            <td>0.09</td>\n",
    "            <td>0.18</td>\n",
    "            <td>0.01</td>\n",
    "        </tr>\n",
    "        <tr>\n",
    "            <td>0.66</td>\n",
    "            <td>0.00</td>\n",
    "            <td>0.00</td>\n",
    "            <td>0.03</td>\n",
    "            <td>0.06</td>\n",
    "            <td>0.00</td>\n",
    "        </tr>\n",
    "        <tr>\n",
    "            <td>0.68</td>\n",
    "            <td>0.00</td>\n",
    "            <td>0.00</td>\n",
    "            <td>0.01</td>\n",
    "            <td>0.02</td>\n",
    "            <td>0.00</td>\n",
    "        </tr>\n",
    "        <tr>\n",
    "            <td>0.70</td>\n",
    "            <td>0.00</td>\n",
    "            <td>0.00</td>\n",
    "            <td>0.00</td>\n",
    "            <td>0.00</td>\n",
    "            <td>0.00</td>\n",
    "        </tr>\n",
    "    <tbody>\n",
    "</table>"
   ]
  },
  {
   "cell_type": "markdown",
   "metadata": {
    "deletable": true,
    "editable": true
   },
   "source": [
    "### Solución"
   ]
  },
  {
   "cell_type": "code",
   "execution_count": null,
   "metadata": {
    "collapsed": true
   },
   "outputs": [],
   "source": [
    "%matplotlib inline"
   ]
  },
  {
   "cell_type": "code",
   "execution_count": null,
   "metadata": {
    "collapsed": true
   },
   "outputs": [],
   "source": [
    "\"\"\"\n",
    "Ajustes generales para los gráficos\n",
    "\n",
    "* Para poder usar 'usetex=True' es necesario tener instalado LaTeX\n",
    "\"\"\"\n",
    "\n",
    "from matplotlib.font_manager import *\n",
    "from matplotlib.pylab import *\n",
    "\n",
    "ioff()\n",
    "\n",
    "rc('lines', linewidth=0.5)\n",
    "rc('text', usetex=True)\n",
    "rc('font', family='Times New Roman')\n",
    "\n",
    "font_title = FontProperties(size=21)\n",
    "font_label = FontProperties(size=17)\n",
    "font_ticks = FontProperties(size=13)\n",
    "font_legend = FontProperties(size=15)"
   ]
  },
  {
   "cell_type": "code",
   "execution_count": null,
   "metadata": {
    "collapsed": true
   },
   "outputs": [],
   "source": [
    "import numpy"
   ]
  },
  {
   "cell_type": "markdown",
   "metadata": {
    "deletable": true,
    "editable": true
   },
   "source": [
    "#### A. Gráficos de sensibilidad"
   ]
  },
  {
   "cell_type": "code",
   "execution_count": null,
   "metadata": {
    "collapsed": false,
    "deletable": true,
    "editable": true
   },
   "outputs": [],
   "source": [
    "\"\"\"\n",
    "Extracción de datos\n",
    "\"\"\"\n",
    "\n",
    "fileHandler = open('./problema_1.csv')\n",
    "fileContents = fileHandler.read()\n",
    "fileHandler.close()\n",
    "\n",
    "dataset = fileContents.split('\\n')[1:-1]\n",
    "dataset = [[float(item.strip()) for item in line.split(',')] for line in dataset]\n",
    "dataset = list(zip(*dataset))\n",
    "\n",
    "dataset = {\n",
    "    \"l\": dataset[0],\n",
    "    \"U\": dataset[1],\n",
    "    \"B\": dataset[2],\n",
    "    \"V\": dataset[3],\n",
    "    \"O_d\": dataset[4],\n",
    "    \"O_n\": dataset[5],\n",
    "}"
   ]
  },
  {
   "cell_type": "code",
   "execution_count": null,
   "metadata": {
    "collapsed": false
   },
   "outputs": [],
   "source": [
    "\"\"\"\n",
    "Curvas de Sensibilidad del sistema fotométrico UBV\n",
    "\"\"\"\n",
    "\n",
    "fig = figure(figsize=(12, 5), frameon=False)\n",
    "axs = fig.add_subplot('111')\n",
    "\n",
    "axs.fill_between(dataset[\"l\"], 0, dataset[\"U\"], color=\"#610061\", alpha=0.5, label=\"$U_\\lambda$\" )\n",
    "axs.fill_between(dataset[\"l\"], 0, dataset[\"B\"], color=\"#0013ff\", alpha=0.5, label=\"$B_\\lambda$\" )\n",
    "axs.fill_between(dataset[\"l\"], 0, dataset[\"V\"], color=\"#81ff00\", alpha=0.5, label=\"$V_\\lambda$\" )\n",
    "\n",
    "axs.set_xlim(0.28, 0.70)\n",
    "axs.set_xlabel(\"$\\lambda\\\\left(\\mu\\\\right)$\", fontproperties=font_label, labelpad=15)\n",
    "axs.set_xticks(dataset[\"l\"])\n",
    "axs.set_xticklabels([\"${0}$\".format(x) for x in dataset[\"l\"]], fontproperties=font_ticks)\n",
    "\n",
    "axs.set_ylim(0, 1.20)\n",
    "axs.set_ylabel(\"$\\\\textrm{Sensibilidad}$\", fontproperties=font_label, labelpad=15)\n",
    "axs.set_yticks([t for t in linspace(0,1.2,7)])\n",
    "axs.set_yticklabels([\"${0:.2f}$\".format(x) for x in linspace(0,1.2,7)], fontproperties=font_ticks)\n",
    "\n",
    "axs.set_title(\"$\\\\mathrm{Sensibilidad\\ del\\ Sistema\\ fotom\\\\acute{e}trico\\ UBV}$\", fontproperties=font_title, position=[.5, 1.05])\n",
    "\n",
    "axs.legend(loc=1, prop=font_legend)\n",
    "axs.grid('on', color='0.5',linestyle='--')\n",
    "\n",
    "tight_layout()\n",
    "\n",
    "show()"
   ]
  },
  {
   "cell_type": "code",
   "execution_count": null,
   "metadata": {
    "collapsed": false
   },
   "outputs": [],
   "source": [
    "\"\"\"\n",
    "Curvas de Sensibilidad del ojo humano\n",
    "\"\"\"\n",
    "\n",
    "fig = figure(figsize=(12, 5), frameon=False)\n",
    "axs = fig.add_subplot('111')\n",
    "\n",
    "axs.fill_between(dataset[\"l\"], 0, dataset[\"O_d\"], color=\"#e1ff00\", alpha=0.5, label=\"$O_{d\\\\acute{i}a}$\" )\n",
    "axs.fill_between(dataset[\"l\"], 0, dataset[\"O_n\"], color=\"#000000\", alpha=0.25, label=\"$O_{noche}$\" )\n",
    "\n",
    "axs.set_xlim(0.28, 0.70)\n",
    "axs.set_xlabel(\"$\\lambda\\\\left(\\mu\\\\right)$\", fontproperties=font_label, labelpad=15)\n",
    "axs.set_xticks(dataset[\"l\"])\n",
    "axs.set_xticklabels([\"${0}$\".format(x) for x in dataset[\"l\"]], fontproperties=font_ticks)\n",
    "\n",
    "axs.set_ylim(0, 1.20)\n",
    "axs.set_ylabel(\"$\\\\textrm{Sensibilidad}$\", fontproperties=font_label, labelpad=15)\n",
    "axs.set_yticks([t for t in linspace(0,1.2,7)])\n",
    "axs.set_yticklabels([\"${0:.2f}$\".format(x) for x in linspace(0,1.2,7)], fontproperties=font_ticks)\n",
    "\n",
    "axs.set_title(\"$\\\\mathrm{Sensibilidad\\ del\\ ojo\\ humano}$\", fontproperties=font_title, position=[.5, 1.05])\n",
    "\n",
    "axs.legend(loc=1, prop=font_legend)\n",
    "axs.grid('on', color='0.5',linestyle='--')\n",
    "\n",
    "tight_layout()\n",
    "\n",
    "show()"
   ]
  },
  {
   "cell_type": "code",
   "execution_count": null,
   "metadata": {
    "collapsed": true
   },
   "outputs": [],
   "source": []
  }
 ],
 "metadata": {
  "kernelspec": {
   "display_name": "Python 3",
   "language": "python",
   "name": "python3"
  },
  "language_info": {
   "codemirror_mode": {
    "name": "ipython",
    "version": 3
   },
   "file_extension": ".py",
   "mimetype": "text/x-python",
   "name": "python",
   "nbconvert_exporter": "python",
   "pygments_lexer": "ipython3",
   "version": "3.6.1"
  }
 },
 "nbformat": 4,
 "nbformat_minor": 2
}
